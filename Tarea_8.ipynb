{
  "nbformat": 4,
  "nbformat_minor": 0,
  "metadata": {
    "colab": {
      "name": "Tarea_8.ipynb",
      "provenance": [],
      "authorship_tag": "ABX9TyO8JRjc/WxV3WGwP42v28TE",
      "include_colab_link": true
    },
    "kernelspec": {
      "name": "python3",
      "display_name": "Python 3"
    }
  },
  "cells": [
    {
      "cell_type": "markdown",
      "metadata": {
        "id": "view-in-github",
        "colab_type": "text"
      },
      "source": [
        "<a href=\"https://colab.research.google.com/github/FernandoMartinezHernandez/daa_2021_1/blob/master/Tarea_8.ipynb\" target=\"_parent\"><img src=\"https://colab.research.google.com/assets/colab-badge.svg\" alt=\"Open In Colab\"/></a>"
      ]
    },
    {
      "cell_type": "code",
      "metadata": {
        "colab": {
          "base_uri": "https://localhost:8080/"
        },
        "id": "zlHWSyEbpjpZ",
        "outputId": "414e412f-ef5a-4e3b-87a1-7dcf0e73e3dd"
      },
      "source": [
        "def busqBin(dic,busq):\n",
        "  x =len(dic)//2\n",
        "  if len(dic) == 0:\n",
        "    print(\"El valor no se encuentra\")\n",
        "    return x\n",
        "  if dic[x].get('id') == busq:\n",
        "    print(\"Nombre:\",dic[x].get('nombre'),\",estudia la carrera de:\",dic[x].get('carrera'),\", y tiene un promedio de:\",dic[x].get('promedio') )\n",
        "  elif dic[x].get('id') > busq:\n",
        "    busqBin(dic[:x],busq)\n",
        "  elif dic[x].get('id') < busq:\n",
        "    busqBin(dic[x+1:], busq)\n",
        "\n",
        "alumno1={'id':2, 'nombre':\"Juan\" , 'carrera':\"ICO\", 'promedio':7.67}\n",
        "alumno2={'id':4, 'nombre':\"Rocio\" , 'carrera':\"ICI\", 'promedio':8.67}\n",
        "alumno3={'id':5, 'nombre':\"Diego\" , 'carrera':\"DER\", 'promedio':8.98}\n",
        "alumno4={'id':7, 'nombre':\"May\" , 'carrera':\"ICI\", 'promedio':9.87}\n",
        "alumno5={'id':9, 'nombre':\"Rob\" , 'carrera':\"IME\", 'promedio':10.00}\n",
        "alumno6={'id':10, 'nombre':\"Santi\" , 'carrera':\"ICO\", 'promedio':5.37}\n",
        "alumno7={'id':14, 'nombre':\"Moy\" , 'carrera':\"IME\", 'promedio':6.85}\n",
        "alumno8={'id':16, 'nombre':\"Diana\" , 'carrera':\"DER\", 'promedio':9.99}\n",
        "alumno9={'id':19, 'nombre':\"Zoila\" , 'carrera':\"ICO\", 'promedio':8.22}\n",
        "alumno10={'id':22, 'nombre':\"Armando\" , 'carrera':\"ICO\", 'promedio':7.32}\n",
        "alumno11={'id':27, 'nombre':\"Fernan\" , 'carrera':\"ICO\", 'promedio':8.32}\n",
        "alumno12={'id':32, 'nombre':\"Dana\" , 'carrera':\"ICO\", 'promedio':6.45}\n",
        "alumno13={'id':39, 'nombre':\"Luisa\" , 'carrera':\"DER\", 'promedio':8.66}\n",
        "alumno14={'id':44, 'nombre':\"Sam\" , 'carrera':\"ICO\", 'promedio':9.53}\n",
        "alumno15={'id':45, 'nombre':\"Juan\" , 'carrera':\"ICI\", 'promedio':8.75}\n",
        "alumno16={'id':57, 'nombre':\"Jerico\" , 'carrera':\"ICO\", 'promedio':6.02}\n",
        "alumno17={'id':63, 'nombre':\"Jesus\" , 'carrera':\"ICO\", 'promedio':9.21}\n",
        "alumno18={'id':70, 'nombre':\"Dani\" , 'carrera':\"DER\", 'promedio':5.00}\n",
        "\n",
        "bd = []\n",
        "bd.append(alumno1)\n",
        "bd.append(alumno2)\n",
        "bd.append(alumno3)\n",
        "bd.append(alumno4)\n",
        "bd.append(alumno5)\n",
        "bd.append(alumno6)\n",
        "bd.append(alumno7)\n",
        "bd.append(alumno8)\n",
        "bd.append(alumno9)\n",
        "bd.append(alumno10)\n",
        "bd.append(alumno11)\n",
        "bd.append(alumno12)\n",
        "bd.append(alumno13)\n",
        "bd.append(alumno14)\n",
        "bd.append(alumno15)\n",
        "bd.append(alumno16)\n",
        "bd.append(alumno17)\n",
        "bd.append(alumno18)\n",
        "\n",
        "busqBin(bd,44)\n"
      ],
      "execution_count": 62,
      "outputs": [
        {
          "output_type": "stream",
          "text": [
            "Nombre: Sam ,estudia la carrera de: ICO , y tiene un promedio de: 9.53\n"
          ],
          "name": "stdout"
        }
      ]
    }
  ]
}