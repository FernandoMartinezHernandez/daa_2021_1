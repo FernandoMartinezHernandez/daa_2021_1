{
  "nbformat": 4,
  "nbformat_minor": 0,
  "metadata": {
    "colab": {
      "name": "21_Octubre_1511.ipynb",
      "provenance": [],
      "authorship_tag": "ABX9TyN4Mt+pmgroZoqHEzwwVlcd",
      "include_colab_link": true
    },
    "kernelspec": {
      "name": "python3",
      "display_name": "Python 3"
    }
  },
  "cells": [
    {
      "cell_type": "markdown",
      "metadata": {
        "id": "view-in-github",
        "colab_type": "text"
      },
      "source": [
        "<a href=\"https://colab.research.google.com/github/FernandoMartinezHernandez/daa_2021_1/blob/master/21_Octubre_1511.ipynb\" target=\"_parent\"><img src=\"https://colab.research.google.com/assets/colab-badge.svg\" alt=\"Open In Colab\"/></a>"
      ]
    },
    {
      "cell_type": "code",
      "metadata": {
        "id": "c9e3oNz3agz9",
        "outputId": "a6b349b3-0ed7-4ec3-d2f0-54cd3fcf292d",
        "colab": {
          "base_uri": "https://localhost:8080/",
          "height": 201
        }
      },
      "source": [
        "from time import time\n",
        "def ejemplo1( n ):\n",
        "    start_time = time()\n",
        "    c = n + 1\n",
        "    d = c * n\n",
        "    e = n * n\n",
        "    total = c + e - d\n",
        "    elapsed_time=time() - start_time\n",
        "    print(n)\n",
        "    print(\"Tiempo transcurrido: %0.10f segundos.\" % elapsed_time)\n",
        "    print(f\"total={ total }\")\n",
        "#ejemplo1( 100)\n",
        "\n",
        "def ejemplo2( n ):\n",
        "    start_time = time()\n",
        "    contador = 0\n",
        "    for i in range( n ) :\n",
        "        for j in range( n ) :\n",
        "            contador += 1\n",
        "    elapsed_time=time() - start_time\n",
        "    print(\"Tiempo transcurrido: %0.10f segundos.\" % elapsed_time)\n",
        "    return contador\n",
        "#ejemplo2( 1000)^\n",
        "\n",
        "def ejemplo3 (n):\n",
        "  start_time = time()\n",
        "  x = n * 2\n",
        "  y = 0\n",
        "  for m in range(100):\n",
        "    y = x - n\n",
        "  elapsed_time=time() - start_time\n",
        "  print(\"Tiempo transcurrido: %0.10f segundos.\" % elapsed_time)\n",
        "  return y\n",
        "#ejemplo3(10000000)\n",
        "\n",
        "def ejemplo4( n ):\n",
        "    start_time = time()\n",
        "    x = 3 * 3.1416 + n\n",
        "    y = x + 3 * 3 - n\n",
        "    z = x + y\n",
        "    elapsed_time=time() - start_time\n",
        "    print(\"Tiempo transcurrido: %0.10f segundos.\" % elapsed_time)\n",
        "    return z\n",
        "\n",
        "#ejemplo4(1500)\n",
        "\n",
        "def ejemplo5( x ):\n",
        "    start_time = time()\n",
        "    n = 10\n",
        "    for j in range( 0 , x , 1 ):\n",
        "        n = j + n\n",
        "    elapsed_time=time() - start_time\n",
        "    print(\"Tiempo transcurrido: %0.10f segundos.\" % elapsed_time)\n",
        "    return n\n",
        "\n",
        "#ejemplo5(1000)\n",
        "\n",
        "def ejemplo6( n ):\n",
        "    start_time = time()\n",
        "    data=[[[1 for x in range(n)] for x in range(n)]\n",
        "          for x in range(n)]\n",
        "    suma = 0\n",
        "    for d in range(n):\n",
        "        for r in range(n):\n",
        "            for c in range(n):\n",
        "                suma += data[d][r][c]\n",
        "    elapsed_time=time() - start_time\n",
        "    print(\"Tiempo transcurrido: %0.10f segundos.\" % elapsed_time)\n",
        "    return suma\n",
        "#print(ejemplo6( 1000 ))\n",
        "\n",
        "\n",
        "def ejemplo61( n ):\n",
        "    start_time = time()\n",
        "    data=[[[1 for x in range(n)] for x in range(n)]\n",
        "          for x in range(n)]\n",
        "    suma = 0\n",
        "    \n",
        "    elapsed_time=time() - start_time\n",
        "    print(\"Tiempo transcurrido: %0.10f segundos.\" % elapsed_time)\n",
        "    return suma\n",
        "#print(ejemplo61( 1000 ))\n",
        "\n",
        "\n",
        "for entrada in range(100,1100,100):\n",
        "  ejemplo61(entrada)"
      ],
      "execution_count": null,
      "outputs": [
        {
          "output_type": "stream",
          "text": [
            "Tiempo transcurrido: 0.0422534943 segundos.\n",
            "Tiempo transcurrido: 0.3225955963 segundos.\n",
            "Tiempo transcurrido: 1.1232500076 segundos.\n",
            "Tiempo transcurrido: 3.7514028549 segundos.\n",
            "Tiempo transcurrido: 6.4465763569 segundos.\n",
            "Tiempo transcurrido: 12.6654655933 segundos.\n",
            "Tiempo transcurrido: 21.7764775753 segundos.\n",
            "Tiempo transcurrido: 31.3172907829 segundos.\n",
            "Tiempo transcurrido: 45.1347203255 segundos.\n",
            "Tiempo transcurrido: 60.8136096001 segundos.\n"
          ],
          "name": "stdout"
        }
      ]
    }
  ]
}