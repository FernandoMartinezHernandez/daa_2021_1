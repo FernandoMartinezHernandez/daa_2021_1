{
  "nbformat": 4,
  "nbformat_minor": 0,
  "metadata": {
    "colab": {
      "name": "Tarea7.ipynb",
      "provenance": [],
      "authorship_tag": "ABX9TyM/GNT62NEdZcDWiaob6cjm",
      "include_colab_link": true
    },
    "kernelspec": {
      "name": "python3",
      "display_name": "Python 3"
    }
  },
  "cells": [
    {
      "cell_type": "markdown",
      "metadata": {
        "id": "view-in-github",
        "colab_type": "text"
      },
      "source": [
        "<a href=\"https://colab.research.google.com/github/FernandoMartinezHernandez/daa_2021_1/blob/master/Tarea7.ipynb\" target=\"_parent\"><img src=\"https://colab.research.google.com/assets/colab-badge.svg\" alt=\"Open In Colab\"/></a>"
      ]
    },
    {
      "cell_type": "code",
      "metadata": {
        "colab": {
          "base_uri": "https://localhost:8080/"
        },
        "id": "vSBMwMU00AAW",
        "outputId": "d3b4fbd7-1c57-400b-8423-71c6002f3d6b"
      },
      "source": [
        "def sumRec(lista):\n",
        "  if len(lista)==1:\n",
        "    return lista[0]\n",
        "  else:  \n",
        "    y = lista[len(lista)-1]\n",
        "    lista.remove(y) \n",
        "    y += int(sumRec(lista))\n",
        "    print(y)\n",
        "    return y\n",
        "\n",
        "lista=[22,1,13,7,5]\n",
        "sumRec(lista)"
      ],
      "execution_count": 67,
      "outputs": [
        {
          "output_type": "stream",
          "text": [
            "23\n",
            "36\n",
            "43\n",
            "48\n"
          ],
          "name": "stdout"
        },
        {
          "output_type": "execute_result",
          "data": {
            "text/plain": [
              "48"
            ]
          },
          "metadata": {
            "tags": []
          },
          "execution_count": 67
        }
      ]
    },
    {
      "cell_type": "code",
      "metadata": {
        "colab": {
          "base_uri": "https://localhost:8080/"
        },
        "id": "KCaxLUPV6PMx",
        "outputId": "09df8e95-f930-4e34-b828-96094c421f62"
      },
      "source": [
        "def conReg (n): \n",
        "  if n == 0:\n",
        "    return 0 \n",
        "  else:\n",
        "    print(n)\n",
        "    n = conReg(n-1)\n",
        "    return n \n",
        "n = 22\n",
        "conReg(n)"
      ],
      "execution_count": null,
      "outputs": [
        {
          "output_type": "stream",
          "text": [
            "22\n",
            "21\n",
            "20\n",
            "19\n",
            "18\n",
            "17\n",
            "16\n",
            "15\n",
            "14\n",
            "13\n",
            "12\n",
            "11\n",
            "10\n",
            "9\n",
            "8\n",
            "7\n",
            "6\n",
            "5\n",
            "4\n",
            "3\n",
            "2\n",
            "1\n"
          ],
          "name": "stdout"
        },
        {
          "output_type": "execute_result",
          "data": {
            "text/plain": [
              "0"
            ]
          },
          "metadata": {
            "tags": []
          },
          "execution_count": 44
        }
      ]
    },
    {
      "cell_type": "code",
      "metadata": {
        "id": "8SVqvx9oOCcB",
        "colab": {
          "base_uri": "https://localhost:8080/"
        },
        "outputId": "abb08fa7-fccc-4da7-b23a-666f30614b54"
      },
      "source": [
        "class Stack:\n",
        "  def __init__ (self):\n",
        "    self.__datos=[]\n",
        "\n",
        "  def is_empty(self):\n",
        "    return len(self.__datos)==0\n",
        "\n",
        "  def get_top(self):\n",
        "    return self.__datos[-1]\n",
        "\n",
        "  def pop(self):\n",
        "    return self.__datos.pop()\n",
        "\n",
        "  def push (self, valor):\n",
        "    self.__datos.append(valor)\n",
        "\n",
        "  def get_length (self):\n",
        "    return len(self.__datos)\n",
        "\n",
        "  def to_string (self):\n",
        "    print(\"|---------------|\")\n",
        "    for ele in self.__datos[-1::-1]:\n",
        "      print(f\" { ele } \")\n",
        "    print(\"|---------------|\")\n",
        "\n",
        "\n",
        "def mediaRec (p,x): \n",
        "  med = int(x/2)\n",
        "  if p.get_length()-1 ==med:\n",
        "    print(p.get_top())\n",
        "  else:\n",
        "    p.pop()\n",
        "    mediaRec(p,x) \n",
        "\n",
        "pila = Stack()\n",
        "pila.push(\"12\")\n",
        "pila.push(\"Perro\")\n",
        "pila.push(\"Gato\")\n",
        "pila.push(\"Casa\")\n",
        "pila.push(\"24\")\n",
        "pila.push(\"24.13\")\n",
        "pila.push(\"2222\")\n",
        "pila.push(\"25\")\n",
        "pila.push(\"Negro\")\n",
        "pila.push(\"Azul\")\n",
        "pila.push(\"Dino\")\n",
        "pila.push(\"45\")\n",
        "pila.push(\"127.7\")\n",
        "tamaño= pila.get_length()\n",
        "mediaRec(pila,tamaño)"
      ],
      "execution_count": 66,
      "outputs": [
        {
          "output_type": "stream",
          "text": [
            "2222\n"
          ],
          "name": "stdout"
        }
      ]
    }
  ]
}