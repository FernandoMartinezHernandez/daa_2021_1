{
  "nbformat": 4,
  "nbformat_minor": 0,
  "metadata": {
    "colab": {
      "name": "2_Octubre_1358.ipynb",
      "provenance": [],
      "authorship_tag": "ABX9TyOCh+h8H3Fev5c8W/xmHSaF",
      "include_colab_link": true
    },
    "kernelspec": {
      "name": "python3",
      "display_name": "Python 3"
    }
  },
  "cells": [
    {
      "cell_type": "markdown",
      "metadata": {
        "id": "view-in-github",
        "colab_type": "text"
      },
      "source": [
        "<a href=\"https://colab.research.google.com/github/FernandoMartinezHernandez/daa_2021_1/blob/master/2_Octubre_1358.ipynb\" target=\"_parent\"><img src=\"https://colab.research.google.com/assets/colab-badge.svg\" alt=\"Open In Colab\"/></a>"
      ]
    },
    {
      "cell_type": "markdown",
      "metadata": {
        "id": "IRzbmSDTiHF3"
      },
      "source": [
        "##Meteorología en México\n",
        "\n",
        "En Sistema meteorológico nacional lleva el registro de la lluvias desde el año 1985 y lo pone a disposición de la población por medio de la pagina datos.gob.mx.\n",
        "\n",
        "En la siguiente liga se encuentran 2  archivos separados por comas CSV correspondientes a los registros de lluvias\n",
        "mensuales y anuales de los años 2017 y 2018. En los columnas se encuentran 13,  correspondientes al promedio mensual y el promedio anual.\n",
        "En los renglones se encuentran 33, correspondientes a cada cada uno de los 32 estados y a nivel nacional.\n",
        "\n",
        "https://drive.google.com/file/d/1lamkxgq2AsXRu81Y4JTNXLVld4og7nxt/view?usp=sharing\n",
        "\n",
        "\n",
        "## Planteamiento del problema\n",
        "Diseñar un algoritmo y programarlo para que:\n",
        "1. Solicite por teclado el año, el estado y el mes, en base a esa información:\n",
        "- muestre en pantalla el promedio de ese mes en ese estado en el año seleccionado.\n",
        "- muestre en pantalla el promedio anual del  estado seleccionado.\n",
        "- muestre la suma de los 12 meses de ese estado en el año selecc\n",
        "ionado.\n",
        "\n",
        "2. Busque el mes que mas llovió en todos los estados durante esos dos años. Imprimir año, estado y mes.\n",
        "3. Busque el mes que menos llovió en los dos. Imprimir año, estado y mes.\n"
      ]
    },
    {
      "cell_type": "code",
      "metadata": {
        "id": "4OGVTPUrh8Qm",
        "outputId": "242e5e39-8156-47ab-a41d-e65915ce2c34",
        "colab": {
          "base_uri": "https://localhost:8080/",
          "height": 715
        }
      },
      "source": [
        "import csv\n",
        "import pandas as pd\n",
        "anio = input(\"Seleccione el año: \")\n",
        "\n",
        "if anio is 2017: \n",
        "    df = pd.read_csv('/content/2017Precip.csv', encoding='latin',skiprows=1)\n",
        "    \n",
        "if anio is 2018: \n",
        "    df = pd.read_csv('/content/2018Precip.csv', encoding='latin',skiprows=1)\n",
        "    \n",
        "\n",
        "print(df)\n",
        "\n",
        "\n",
        "\n",
        "\n",
        "\n"
      ],
      "execution_count": 51,
      "outputs": [
        {
          "output_type": "stream",
          "text": [
            "Seleccione el año: 2018\n",
            "                ENTIDAD    ENE   FEB   MAR  ...    OCT    NOV   DIC     ANUAL\n",
            "0        AGUASCALIENTES   35.5  28.6   0.0  ...   83.3   40.5   1.2    768.7 \n",
            "1       BAJA CALIFORNIA   14.4  12.8   4.8  ...   40.7    9.9  24.7    125.3 \n",
            "2   BAJA CALIFORNIA SUR    0.6   9.1   0.0  ...   21.5    0.5  13.0    163.2 \n",
            "3              CAMPECHE  105.7  19.2  15.5  ...  160.9  127.2  27.4  1,389.8 \n",
            "4              COAHUILA    0.7   7.0   2.4  ...   67.4    7.7  19.3    396.8 \n",
            "5                COLIMA    5.2   2.6   0.0  ...  292.3  198.3   0.6  1,611.7 \n",
            "6               CHIAPAS   99.6  20.0  30.1  ...  224.9  118.4  31.7  1,705.3 \n",
            "7             CHIHUAHUA    0.1  19.2   1.8  ...   52.0    3.3  33.1    490.8 \n",
            "8      DISTRITO FEDERAL    7.9   7.7  12.2  ...   86.8   31.1   4.8    786.2 \n",
            "9               DURANGO    2.4  12.2   0.1  ...   70.8    8.8  21.7    520.5 \n",
            "10           GUANAJUATO    3.5  13.8   0.8  ...   65.5   50.4   1.2    850.3 \n",
            "11             GUERRERO    1.7   2.0   1.4  ...  188.7   58.9   4.5  1,159.0 \n",
            "12              HIDALGO   27.1  15.2  14.8  ...   93.3   35.2   6.6    574.6 \n",
            "13              JALISCO   14.8  16.2   0.1  ...  149.8   75.9   1.7  1,075.9 \n",
            "14     ESTADO DE MXICO   11.5  17.5   6.8  ...  112.6   64.5   4.8  1,098.7 \n",
            "15            MICHOACçN   15.4  16.2   0.4  ...  147.4  100.9   4.8  1,114.1 \n",
            "16              MORELOS    1.6   2.6   4.0  ...  213.6   74.4   0.6  1,963.7 \n",
            "17              NAYARIT    3.5   4.1   0.0  ...  168.6   30.5   3.9  1,356.4 \n",
            "18           NUEVO LEîN   16.5  18.0   3.6  ...   46.6   14.2  16.6    585.2 \n",
            "19               OAXACA   25.0  13.6  20.5  ...  257.9   44.1  28.6  1,217.1 \n",
            "20               PUEBLA   32.4  14.3  29.7  ...  167.3   84.8  13.6  1,247.7 \n",
            "21            QUERTARO    9.2  10.0   2.8  ...   58.6   31.1   3.8    554.1 \n",
            "22         QUINTANA ROO   89.8  19.1  50.0  ...  162.3   82.2  67.0  1,306.1 \n",
            "23      SAN LUIS POTOSê   19.5  20.8   7.3  ...   74.6   30.9   5.5    635.4 \n",
            "24              SINALOA    0.4  14.7   0.1  ...   70.5    5.6  51.1  1,001.3 \n",
            "25               SONORA    1.6  34.3   0.9  ...   81.8    1.0  25.9    565.9 \n",
            "26              TABASCO  323.9  58.3  49.3  ...  253.7  358.8  99.4  1,965.5 \n",
            "27           TAMAULIPAS   27.3  12.4  12.2  ...   75.3   18.4   6.9    678.0 \n",
            "28             TLAXCALA    5.6  10.3   5.7  ...   64.2   46.9   3.3    662.0 \n",
            "29             VERACRUZ  112.7  37.2  57.4  ...  332.5   93.8  67.1  1,516.1 \n",
            "30              YUCATçN   55.2   5.8  15.1  ...   87.0   67.4  28.5    998.7 \n",
            "31            ZACATECAS   24.3  22.8   0.2  ...   60.1   23.8   5.0    614.5 \n",
            "32             NACIONAL   25.7  17.6   9.1  ...  110.7   39.6  23.4    803.7 \n",
            "33                  NaN    NaN   NaN   NaN  ...    NaN    NaN   NaN       NaN\n",
            "\n",
            "[34 rows x 14 columns]\n"
          ],
          "name": "stdout"
        }
      ]
    }
  ]
}