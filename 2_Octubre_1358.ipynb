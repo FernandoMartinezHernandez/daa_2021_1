{
  "nbformat": 4,
  "nbformat_minor": 0,
  "metadata": {
    "colab": {
      "name": "2_Octubre_1358.ipynb",
      "provenance": [],
      "authorship_tag": "ABX9TyOI5KPPe3qB23KimTR+cFuS",
      "include_colab_link": true
    },
    "kernelspec": {
      "name": "python3",
      "display_name": "Python 3"
    }
  },
  "cells": [
    {
      "cell_type": "markdown",
      "metadata": {
        "id": "view-in-github",
        "colab_type": "text"
      },
      "source": [
        "<a href=\"https://colab.research.google.com/github/FernandoMartinezHernandez/daa_2021_1/blob/master/2_Octubre_1358.ipynb\" target=\"_parent\"><img src=\"https://colab.research.google.com/assets/colab-badge.svg\" alt=\"Open In Colab\"/></a>"
      ]
    },
    {
      "cell_type": "markdown",
      "metadata": {
        "id": "IRzbmSDTiHF3"
      },
      "source": [
        "##Meteorología en México\n",
        "\n",
        "En Sistema meteorológico nacional lleva el registro de la lluvias desde el año 1985 y lo pone a disposición de la población por medio de la pagina datos.gob.mx.\n",
        "\n",
        "En la siguiente liga se encuentran 2  archivos separados por comas CSV correspondientes a los registros de lluvias\n",
        "mensuales y anuales de los años 2017 y 2018. En los columnas se encuentran 13,  correspondientes al promedio mensual y el promedio anual.\n",
        "En los renglones se encuentran 33, correspondientes a cada cada uno de los 32 estados y a nivel nacional.\n",
        "\n",
        "https://drive.google.com/file/d/1lamkxgq2AsXRu81Y4JTNXLVld4og7nxt/view?usp=sharing\n",
        "\n",
        "\n",
        "## Planteamiento del problema\n",
        "Diseñar un algoritmo y programarlo para que:\n",
        "1. Solicite por teclado el año, el estado y el mes, en base a esa información:\n",
        "- muestre en pantalla el promedio de ese mes en ese estado en el año seleccionado.\n",
        "- muestre en pantalla el promedio anual del  estado seleccionado.\n",
        "- muestre la suma de los 12 meses de ese estado en el año selecc\n",
        "ionado.\n",
        "\n",
        "2. Busque el mes que mas llovió en todos los estados durante esos dos años. Imprimir año, estado y mes.\n",
        "3. Busque el mes que menos llovió en los dos. Imprimir año, estado y mes.\n"
      ]
    },
    {
      "cell_type": "code",
      "metadata": {
        "id": "4OGVTPUrh8Qm",
        "outputId": "12cd566a-49d7-4f59-f025-a3dd1a453608",
        "colab": {
          "base_uri": "https://localhost:8080/",
          "height": 697
        }
      },
      "source": [
        "import csv\n",
        "import pandas as pd\n",
        "anio = input(\"Seleccione el año: \")\n",
        "mes = input (\"Seleccione el mes\")\n",
        "\n",
        "if anio is 2017: \n",
        "    df = pd.read_csv('/content/2017Precip.csv', encoding='latin',skiprows=1)\n",
        "    \n",
        "if anio is 2018: \n",
        "    df = pd.read_csv('/content/2018Precip.csv', encoding='latin',skiprows=1)\n",
        "    \n",
        "\n",
        "print(df[mes])\n",
        "\n",
        "\n",
        "\n",
        "\n",
        "\n"
      ],
      "execution_count": 52,
      "outputs": [
        {
          "output_type": "stream",
          "text": [
            "Seleccione el año: 2017\n",
            "Seleccione el mesENE\n",
            "0      35.5\n",
            "1      14.4\n",
            "2       0.6\n",
            "3     105.7\n",
            "4       0.7\n",
            "5       5.2\n",
            "6      99.6\n",
            "7       0.1\n",
            "8       7.9\n",
            "9       2.4\n",
            "10      3.5\n",
            "11      1.7\n",
            "12     27.1\n",
            "13     14.8\n",
            "14     11.5\n",
            "15     15.4\n",
            "16      1.6\n",
            "17      3.5\n",
            "18     16.5\n",
            "19     25.0\n",
            "20     32.4\n",
            "21      9.2\n",
            "22     89.8\n",
            "23     19.5\n",
            "24      0.4\n",
            "25      1.6\n",
            "26    323.9\n",
            "27     27.3\n",
            "28      5.6\n",
            "29    112.7\n",
            "30     55.2\n",
            "31     24.3\n",
            "32     25.7\n",
            "33      NaN\n",
            "Name: ENE, dtype: float64\n"
          ],
          "name": "stdout"
        }
      ]
    }
  ]
}