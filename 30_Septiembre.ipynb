{
  "nbformat": 4,
  "nbformat_minor": 0,
  "metadata": {
    "colab": {
      "name": "30 Septiembre.ipynb",
      "provenance": [],
      "authorship_tag": "ABX9TyODm7HFDasd7FOzsWQUUpUJ",
      "include_colab_link": true
    },
    "kernelspec": {
      "name": "python3",
      "display_name": "Python 3"
    }
  },
  "cells": [
    {
      "cell_type": "markdown",
      "metadata": {
        "id": "view-in-github",
        "colab_type": "text"
      },
      "source": [
        "<a href=\"https://colab.research.google.com/github/FernandoMartinezHernandez/daa_2021_1/blob/master/30_Septiembre.ipynb\" target=\"_parent\"><img src=\"https://colab.research.google.com/assets/colab-badge.svg\" alt=\"Open In Colab\"/></a>"
      ]
    },
    {
      "cell_type": "markdown",
      "metadata": {
        "id": "Cms0zE92QI5K"
      },
      "source": [
        "# Palindromos \n",
        "Es una palabra que se lee de igual forma de un sentido y de sentido inverso, ejemplos: \n",
        "1. Sugus\n",
        "1. Oso\n",
        "1. Reconocer\n",
        "1. 10101\n",
        "1. 10:01\n",
        "Etc. \n",
        "\n",
        "### Planteamiento del problema\n",
        "Se desea encontrar todos los palindromos que existen el la franja horaria de un dia completo, tomando como horario inicial las 00:00 horas y como final las 23:59 horas.\n",
        "\n",
        "El algoritmo debe mostrar en pantalla todos los palindromos existente en ese rango, al final debe mostrar el conteo del total de palindromo existentes. \n",
        "\n"
      ]
    },
    {
      "cell_type": "code",
      "metadata": {
        "id": "sX4Q9mTpP6wU",
        "outputId": "7f0bfcbb-5376-414c-c67a-e7eaa74f960f",
        "colab": {
          "base_uri": "https://localhost:8080/",
          "height": 458
        }
      },
      "source": [
        "Hr\n",
        "Mn= 00\n",
        "Conta = 0\n",
        "revertir=0\n",
        "def invertir(num):\n",
        "\tnum_string = str(num)\n",
        "\tnum_inverso = \"\"\n",
        "\tlargo = len(num_string)\n",
        "\tfor i in range(largo-1,-1,-1):\n",
        "\t\tnum_inverso += num_string[i]\n",
        "\treturn int(num_inverso)\n",
        " \n",
        "\n",
        "for i in range (0, 24):\n",
        "  Hr = i\n",
        "  for j in range(0, 59):\n",
        "    Mn = invertir(j)\n",
        "\n",
        "    if(Hr == Mn):\n",
        "      Conta = Conta+1\n",
        "      print(Hr, \":\", invertir(Mn))\n",
        "\n",
        "print(\"Numero de palindromos\", Conta)\n",
        "     \n",
        "    \n",
        "  \n"
      ],
      "execution_count": 51,
      "outputs": [
        {
          "output_type": "stream",
          "text": [
            "0 : 0\n",
            "1 : 1\n",
            "1 : 1\n",
            "2 : 2\n",
            "2 : 2\n",
            "3 : 3\n",
            "3 : 3\n",
            "4 : 4\n",
            "4 : 4\n",
            "5 : 5\n",
            "5 : 5\n",
            "6 : 6\n",
            "7 : 7\n",
            "8 : 8\n",
            "9 : 9\n",
            "11 : 11\n",
            "12 : 21\n",
            "13 : 31\n",
            "14 : 41\n",
            "15 : 51\n",
            "21 : 12\n",
            "22 : 22\n",
            "23 : 32\n",
            "Numero de palindromos 23\n"
          ],
          "name": "stdout"
        }
      ]
    }
  ]
}