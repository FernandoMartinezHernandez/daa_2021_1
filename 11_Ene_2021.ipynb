{
  "nbformat": 4,
  "nbformat_minor": 0,
  "metadata": {
    "colab": {
      "name": "11-Ene-2021.ipynb",
      "provenance": [],
      "authorship_tag": "ABX9TyP+qdE5aXhImzwaGk5QLQhA",
      "include_colab_link": true
    },
    "kernelspec": {
      "name": "python3",
      "display_name": "Python 3"
    }
  },
  "cells": [
    {
      "cell_type": "markdown",
      "metadata": {
        "id": "view-in-github",
        "colab_type": "text"
      },
      "source": [
        "<a href=\"https://colab.research.google.com/github/FernandoMartinezHernandez/daa_2021_1/blob/master/11_Ene_2021.ipynb\" target=\"_parent\"><img src=\"https://colab.research.google.com/assets/colab-badge.svg\" alt=\"Open In Colab\"/></a>"
      ]
    },
    {
      "cell_type": "code",
      "metadata": {
        "id": "DCB9ODFW7BLd"
      },
      "source": [
        "class NodoArbol: \r\n",
        "  def __init__ (self, value, left=None, rigth=None):\r\n",
        "    self.data = value\r\n",
        "    self.left=left\r\n",
        "    self.rigth= rigth \r\n"
      ],
      "execution_count": 3,
      "outputs": []
    },
    {
      "cell_type": "code",
      "metadata": {
        "id": "M8SQ6NWB82n5"
      },
      "source": [
        "arbol= NodoArbol(\"R\", NodoArbol(\"C\"), NodoArbol(\"H\"))"
      ],
      "execution_count": 8,
      "outputs": []
    },
    {
      "cell_type": "code",
      "metadata": {
        "id": "SUjFtnVV93M1"
      },
      "source": [
        "nodo1 = NodoArbol(\"C\")\r\n",
        "nodo2 = NodoArbol(\"H\")\r\n",
        "arbol_v2 = NodoArbol(\"R\", nodo1, nodo2)\r\n"
      ],
      "execution_count": 9,
      "outputs": []
    },
    {
      "cell_type": "code",
      "metadata": {
        "colab": {
          "base_uri": "https://localhost:8080/"
        },
        "id": "PoYAjyn7-Nrn",
        "outputId": "5fb6bfda-1a41-4f57-fc8a-a8d6adc847fe"
      },
      "source": [
        "print(arbol.rigth.data)\r\n",
        "\r\n",
        "print(arbol_v2.rigth.data)"
      ],
      "execution_count": 12,
      "outputs": [
        {
          "output_type": "stream",
          "text": [
            "H\n",
            "H\n"
          ],
          "name": "stdout"
        }
      ]
    },
    {
      "cell_type": "code",
      "metadata": {
        "id": "kQN5rPxb_Mjb"
      },
      "source": [
        "arbol2= NodoArbol(4, NodoArbol(3,NodoArbol(2,NodoArbol(2))), NodoArbol(5))\r\n",
        "print(arbol2.left.left.left.data)\r\n"
      ],
      "execution_count": 14,
      "outputs": []
    },
    {
      "cell_type": "code",
      "metadata": {
        "colab": {
          "base_uri": "https://localhost:8080/"
        },
        "id": "lZICHQPvCfZy",
        "outputId": "17f5fcc7-109a-4a9f-b562-9db32b1414f1"
      },
      "source": [
        "aux = arbol2\r\n",
        "while aux.left != None:\r\n",
        "  aux=aux.left\r\n",
        "\r\n",
        "print(aux.data)\r\n"
      ],
      "execution_count": 15,
      "outputs": [
        {
          "output_type": "stream",
          "text": [
            "2\n"
          ],
          "name": "stdout"
        }
      ]
    },
    {
      "cell_type": "code",
      "metadata": {
        "colab": {
          "base_uri": "https://localhost:8080/"
        },
        "id": "NHg5hiOKCfcH",
        "outputId": "029bc9ec-d555-475e-d48d-8ba56d050591"
      },
      "source": [
        "arbol3=NodoArbol(\"Santi\", None,NodoArbol(\"Jesus\",NodoArbol(\"Pedro\",None,NodoArbol(\"Diana\")),None))\r\n",
        "\r\n",
        "print(arbol3.rigth.left.rigth.data)"
      ],
      "execution_count": 17,
      "outputs": [
        {
          "output_type": "stream",
          "text": [
            "Diana\n"
          ],
          "name": "stdout"
        }
      ]
    }
  ]
}