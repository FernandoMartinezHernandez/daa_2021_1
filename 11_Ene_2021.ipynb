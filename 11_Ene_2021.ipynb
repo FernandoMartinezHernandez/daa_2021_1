{
  "nbformat": 4,
  "nbformat_minor": 0,
  "metadata": {
    "colab": {
      "name": "11-Ene-2021.ipynb",
      "provenance": [],
      "authorship_tag": "ABX9TyNz9/NnhiQmmwxUIb2abmdG",
      "include_colab_link": true
    },
    "kernelspec": {
      "name": "python3",
      "display_name": "Python 3"
    }
  },
  "cells": [
    {
      "cell_type": "markdown",
      "metadata": {
        "id": "view-in-github",
        "colab_type": "text"
      },
      "source": [
        "<a href=\"https://colab.research.google.com/github/FernandoMartinezHernandez/daa_2021_1/blob/master/11_Ene_2021.ipynb\" target=\"_parent\"><img src=\"https://colab.research.google.com/assets/colab-badge.svg\" alt=\"Open In Colab\"/></a>"
      ]
    },
    {
      "cell_type": "code",
      "metadata": {
        "id": "DCB9ODFW7BLd"
      },
      "source": [
        "class NodoArbol: \r\n",
        "  def __init__ (self, value, left=None, rigth=None):\r\n",
        "    self.data = value\r\n",
        "    self.left=left\r\n",
        "    self.rigth= rigth \r\n",
        "\r\n",
        "  def alt(nodo):\r\n",
        "    altIzq=0\r\n",
        "    altDer=0\r\n",
        "    if nodo ==None:\r\n",
        "      return 0\r\n",
        "    else:\r\n",
        "      altIzq= NodoArbol.alt(nodo.left)\r\n",
        "      altDer= NodoArbol.alt(nodo.rigth)\r\n",
        "    if altIzq > altDer:\r\n",
        "      return altIzq+1\r\n",
        "    else:\r\n",
        "      return altDer+1\r\n",
        "\r\n",
        "  def nivel(nodo, niv):\r\n",
        "    if nodo ==None:\r\n",
        "      return\r\n",
        "    if niv == 0:\r\n",
        "      print(nodo.data)\r\n",
        "    else:\r\n",
        "      NodoArbol.nivel(nodo.left,niv-1)\r\n",
        "      NodoArbol.nivel(nodo.rigth,niv-1)\r\n",
        "      "
      ],
      "execution_count": 38,
      "outputs": []
    },
    {
      "cell_type": "code",
      "metadata": {
        "id": "M8SQ6NWB82n5"
      },
      "source": [
        "arbol= NodoArbol(\"R\", NodoArbol(\"C\"), NodoArbol(\"H\"))\r\n"
      ],
      "execution_count": 12,
      "outputs": []
    },
    {
      "cell_type": "code",
      "metadata": {
        "id": "SUjFtnVV93M1"
      },
      "source": [
        "nodo1 = NodoArbol(\"C\")\r\n",
        "nodo2 = NodoArbol(\"H\")\r\n",
        "arbol_v2 = NodoArbol(\"R\", nodo1, nodo2)\r\n"
      ],
      "execution_count": null,
      "outputs": []
    },
    {
      "cell_type": "code",
      "metadata": {
        "colab": {
          "base_uri": "https://localhost:8080/"
        },
        "id": "PoYAjyn7-Nrn",
        "outputId": "5fb6bfda-1a41-4f57-fc8a-a8d6adc847fe"
      },
      "source": [
        "print(arbol.rigth.data)\r\n",
        "\r\n",
        "print(arbol_v2.rigth.data)"
      ],
      "execution_count": null,
      "outputs": [
        {
          "output_type": "stream",
          "text": [
            "H\n",
            "H\n"
          ],
          "name": "stdout"
        }
      ]
    },
    {
      "cell_type": "code",
      "metadata": {
        "id": "kQN5rPxb_Mjb",
        "colab": {
          "base_uri": "https://localhost:8080/"
        },
        "outputId": "d7ac89a4-d42d-445c-bedf-6c0c890c5b38"
      },
      "source": [
        "arbol2= NodoArbol(4, NodoArbol(3,NodoArbol(2,NodoArbol(2))), NodoArbol(5))\r\n",
        "print(arbol2.left.left.left.data)\r\n"
      ],
      "execution_count": 9,
      "outputs": [
        {
          "output_type": "stream",
          "text": [
            "2\n"
          ],
          "name": "stdout"
        }
      ]
    },
    {
      "cell_type": "code",
      "metadata": {
        "colab": {
          "base_uri": "https://localhost:8080/"
        },
        "id": "lZICHQPvCfZy",
        "outputId": "5479e9a9-0883-4b0b-f5bd-3b2ce4f1d19b"
      },
      "source": [
        "aux = arbol2\r\n",
        "while aux.left != None:\r\n",
        "  aux=aux.left\r\n",
        "\r\n",
        "print(aux.data)\r\n"
      ],
      "execution_count": 10,
      "outputs": [
        {
          "output_type": "stream",
          "text": [
            "2\n"
          ],
          "name": "stdout"
        }
      ]
    },
    {
      "cell_type": "code",
      "metadata": {
        "colab": {
          "base_uri": "https://localhost:8080/"
        },
        "id": "NHg5hiOKCfcH",
        "outputId": "53ee71b9-448d-4dc2-e0e8-679cf188220f"
      },
      "source": [
        "arbol3=NodoArbol(\"Santi\", None,NodoArbol(\"Jesus\",NodoArbol(\"Pedro\",None,NodoArbol(\"Diana\")),None))\r\n",
        "\r\n",
        "print(arbol3.rigth.left.rigth.data)"
      ],
      "execution_count": 11,
      "outputs": [
        {
          "output_type": "stream",
          "text": [
            "Diana\n"
          ],
          "name": "stdout"
        }
      ]
    },
    {
      "cell_type": "code",
      "metadata": {
        "colab": {
          "base_uri": "https://localhost:8080/"
        },
        "id": "3WzVenmPLez1",
        "outputId": "b9fcd5c1-bf09-4434-d3fd-a0aaac9d7f57"
      },
      "source": [
        "arbolP1= NodoArbol(4, NodoArbol(3,NodoArbol(2,NodoArbol(2))), NodoArbol(5))\r\n",
        "altura = NodoArbol.alt(arbolP1)\r\n",
        "NodoArbol.nivel(arbolP1, altura-1)\r\n"
      ],
      "execution_count": 46,
      "outputs": [
        {
          "output_type": "stream",
          "text": [
            "2\n"
          ],
          "name": "stdout"
        }
      ]
    },
    {
      "cell_type": "code",
      "metadata": {
        "colab": {
          "base_uri": "https://localhost:8080/"
        },
        "id": "0vDTj_a-PabP",
        "outputId": "c979586f-4c29-45ad-bd19-3d0ff4c2cda0"
      },
      "source": [
        "arbolP2= NodoArbol(8, NodoArbol(5,NodoArbol(2,NodoArbol(2,NodoArbol(3,NodoArbol(4)),NodoArbol(1)))), \r\n",
        "                   NodoArbol(10,NodoArbol(12,None,NodoArbol(15,NodoArbol(18)))))\r\n",
        "altura = NodoArbol.alt(arbolP2)\r\n",
        "NodoArbol.nivel(arbolP2, altura-1)"
      ],
      "execution_count": 56,
      "outputs": [
        {
          "output_type": "stream",
          "text": [
            "4\n"
          ],
          "name": "stdout"
        }
      ]
    },
    {
      "cell_type": "code",
      "metadata": {
        "colab": {
          "base_uri": "https://localhost:8080/"
        },
        "id": "a2JOsrGDYAV1",
        "outputId": "35591179-78fe-470e-ce1f-73a2cd9d6d42"
      },
      "source": [
        "arbolP3= NodoArbol(128,NodoArbol(100,NodoArbol(98, NodoArbol(12),NodoArbol(99))\r\n",
        ",NodoArbol(101,None,NodoArbol(110,None,NodoArbol(121)))),NodoArbol(200,NodoArbol(130),NodoArbol(216)))\r\n",
        "altura = NodoArbol.alt(arbolP3)\r\n",
        "NodoArbol.nivel(arbolP3, altura-1)"
      ],
      "execution_count": 61,
      "outputs": [
        {
          "output_type": "stream",
          "text": [
            "121\n"
          ],
          "name": "stdout"
        }
      ]
    },
    {
      "cell_type": "code",
      "metadata": {
        "colab": {
          "base_uri": "https://localhost:8080/"
        },
        "id": "3iE_o83TYAeM",
        "outputId": "72c89c89-38b7-4318-fe07-a4b58e294ada"
      },
      "source": [
        "arbolP4= NodoArbol(580,NodoArbol(210,NodoArbol(115,NodoArbol(99), NodoArbol(120)),NodoArbol(283,NodoArbol(227))),NodoArbol(750,NodoArbol(666), NodoArbol(800,NodoArbol(775,NodoArbol(768,NodoArbol(762),NodoArbol(770,None,NodoArbol(773))),NodoArbol(792)))))\r\n",
        "altura = NodoArbol.alt(arbolP4)\r\n",
        "NodoArbol.nivel(arbolP4, altura-1)"
      ],
      "execution_count": 63,
      "outputs": [
        {
          "output_type": "stream",
          "text": [
            "773\n"
          ],
          "name": "stdout"
        }
      ]
    }
  ]
}