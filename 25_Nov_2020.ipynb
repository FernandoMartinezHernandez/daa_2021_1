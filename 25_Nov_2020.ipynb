{
  "nbformat": 4,
  "nbformat_minor": 0,
  "metadata": {
    "colab": {
      "name": "25-Nov-2020.ipynb",
      "provenance": [],
      "authorship_tag": "ABX9TyOmcMSmdGcCURHqE3z5y0B6",
      "include_colab_link": true
    },
    "kernelspec": {
      "name": "python3",
      "display_name": "Python 3"
    }
  },
  "cells": [
    {
      "cell_type": "markdown",
      "metadata": {
        "id": "view-in-github",
        "colab_type": "text"
      },
      "source": [
        "<a href=\"https://colab.research.google.com/github/FernandoMartinezHernandez/daa_2021_1/blob/master/25_Nov_2020.ipynb\" target=\"_parent\"><img src=\"https://colab.research.google.com/assets/colab-badge.svg\" alt=\"Open In Colab\"/></a>"
      ]
    },
    {
      "cell_type": "code",
      "metadata": {
        "colab": {
          "base_uri": "https://localhost:8080/"
        },
        "id": "K2--d8_n54c2",
        "outputId": "7d3f5c52-b450-46c6-8830-1aad76563e02"
      },
      "source": [
        "frase = \"\"\"El lema que anima a la Universidad Nacional, Por mi raza hablará el espíritu, revela la vocación humanística con la que fue concebida. El autor de esta célebre frase, José Vasconcelos, asumió la rectoría en 1920, en una época en que las esperanzas de la Revolución aún estaban vivas,\n",
        " había una gran fe en la Patria y el ánimo redentor se extendía en el ambiente.\"\"\"\n",
        "\n",
        "frase = frase.strip().replace(\",\",\"\").replace(\".\",\"\").lower().split(\" \")\n",
        "print(frase)\n",
        "frecuencias={}\n",
        "for index in range (len(frase)):\n",
        "  if frase[index] in frecuencias:\n",
        "    pass\n",
        "  else:\n",
        "    frecuencias[frase[index]] =1\n",
        "    for pivote in range (index+1,len(frase),1):\n",
        "      \n",
        "      if frase[index]==frase[pivote]:\n",
        "        frecuencias [frase[index]]+=1\n",
        "\n",
        "print(frecuencias)"
      ],
      "execution_count": 7,
      "outputs": [
        {
          "output_type": "stream",
          "text": [
            "['el', 'lema', 'que', 'anima', 'a', 'la', 'universidad', 'nacional', 'por', 'mi', 'raza', 'hablará', 'el', 'espíritu', 'revela', 'la', 'vocación', 'humanística', 'con', 'la', 'que', 'fue', 'concebida', 'el', 'autor', 'de', 'esta', 'célebre', 'frase', 'josé', 'vasconcelos', 'asumió', 'la', 'rectoría', 'en', '1920', 'en', 'una', 'época', 'en', 'que', 'las', 'esperanzas', 'de', 'la', 'revolución', 'aún', 'estaban', 'vivas\\n', 'había', 'una', 'gran', 'fe', 'en', 'la', 'patria', 'y', 'el', 'ánimo', 'redentor', 'se', 'extendía', 'en', 'el', 'ambiente']\n",
            "{'el': 5, 'lema': 1, 'que': 3, 'anima': 1, 'a': 1, 'la': 6, 'universidad': 1, 'nacional': 1, 'por': 1, 'mi': 1, 'raza': 1, 'hablará': 1, 'espíritu': 1, 'revela': 1, 'vocación': 1, 'humanística': 1, 'con': 1, 'fue': 1, 'concebida': 1, 'autor': 1, 'de': 2, 'esta': 1, 'célebre': 1, 'frase': 1, 'josé': 1, 'vasconcelos': 1, 'asumió': 1, 'rectoría': 1, 'en': 5, '1920': 1, 'una': 2, 'época': 1, 'las': 1, 'esperanzas': 1, 'revolución': 1, 'aún': 1, 'estaban': 1, 'vivas\\n': 1, 'había': 1, 'gran': 1, 'fe': 1, 'patria': 1, 'y': 1, 'ánimo': 1, 'redentor': 1, 'se': 1, 'extendía': 1, 'ambiente': 1}\n"
          ],
          "name": "stdout"
        }
      ]
    }
  ]
}