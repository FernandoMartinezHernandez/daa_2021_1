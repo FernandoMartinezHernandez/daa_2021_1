{
  "nbformat": 4,
  "nbformat_minor": 0,
  "metadata": {
    "colab": {
      "name": "30-Nov.ipynb",
      "provenance": [],
      "authorship_tag": "ABX9TyOKgZbh0UMmxtjYXSE9udd/",
      "include_colab_link": true
    },
    "kernelspec": {
      "name": "python3",
      "display_name": "Python 3"
    }
  },
  "cells": [
    {
      "cell_type": "markdown",
      "metadata": {
        "id": "view-in-github",
        "colab_type": "text"
      },
      "source": [
        "<a href=\"https://colab.research.google.com/github/FernandoMartinezHernandez/daa_2021_1/blob/master/30_Nov.ipynb\" target=\"_parent\"><img src=\"https://colab.research.google.com/assets/colab-badge.svg\" alt=\"Open In Colab\"/></a>"
      ]
    },
    {
      "cell_type": "code",
      "metadata": {
        "colab": {
          "base_uri": "https://localhost:8080/"
        },
        "id": "6D2wr6xNn2DQ",
        "outputId": "c5ab9af8-dc46-4193-ecf2-08bba0607eab"
      },
      "source": [
        "A = \"AELASESLALSALSALSALSALSALASLSLSLSLSALALALALASALSALLSALAS\"\n",
        "P = \"LAS\"\n",
        "N = len(A)\n",
        "M = len (P)\n",
        "def fuerza_B(A,P):\n",
        "  for i in range (N-M+1):\n",
        "    for j in range (M):\n",
        "      if A[i+j] != P[j]:\n",
        "        break\n",
        "      else:\n",
        "        pass\n",
        "    if j+1 == M and A[i+j]==P[j]:\n",
        "      print(\"Encontrado en\",i)\n",
        "    \n",
        "fuerza_B(A,P)\n",
        "\n"
      ],
      "execution_count": 3,
      "outputs": [
        {
          "output_type": "stream",
          "text": [
            "Encontrado en 2\n",
            "Encontrado en 24\n",
            "Encontrado en 42\n",
            "Encontrado en 53\n"
          ],
          "name": "stdout"
        }
      ]
    },
    {
      "cell_type": "code",
      "metadata": {
        "id": "cwJ9Gp_IujZG"
      },
      "source": [
        ""
      ],
      "execution_count": null,
      "outputs": []
    }
  ]
}