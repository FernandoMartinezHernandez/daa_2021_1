{
  "nbformat": 4,
  "nbformat_minor": 0,
  "metadata": {
    "colab": {
      "name": "28Septiembre.ipynb",
      "provenance": [],
      "toc_visible": true,
      "authorship_tag": "ABX9TyOjCpiJcT8pDAa5sffCKrmd",
      "include_colab_link": true
    },
    "kernelspec": {
      "name": "python3",
      "display_name": "Python 3"
    }
  },
  "cells": [
    {
      "cell_type": "markdown",
      "metadata": {
        "id": "view-in-github",
        "colab_type": "text"
      },
      "source": [
        "<a href=\"https://colab.research.google.com/github/FernandoMartinezHernandez/daa_2021_1/blob/master/28Septiembre.ipynb\" target=\"_parent\"><img src=\"https://colab.research.google.com/assets/colab-badge.svg\" alt=\"Open In Colab\"/></a>"
      ]
    },
    {
      "cell_type": "markdown",
      "metadata": {
        "id": "t7Ui5L2PD_j7"
      },
      "source": [
        "#Sección 1\n",
        "\n",
        "En este archivo aprenderemos a programar en Python con la herramienta de google Colab.research.\n",
        "\n",
        "Tambien aprenderemos a guardar nuestros cambios a nuestro repositorio Github."
      ]
    },
    {
      "cell_type": "markdown",
      "metadata": {
        "id": "gz104rhFLvQd"
      },
      "source": [
        "# Código de ejemplo\n",
        "\n",
        "**Negritas** \n",
        "_Italica_ \n",
        "\n",
        "`edad = 10 \n",
        "print (edad)"
      ]
    },
    {
      "cell_type": "code",
      "metadata": {
        "id": "KGpjxALrGfO6",
        "outputId": "1a91c96b-3037-4b80-a7df-68a341eda0a6",
        "colab": {
          "base_uri": "https://localhost:8080/",
          "height": 35
        }
      },
      "source": [
        "frutas =[]\n",
        "frutas.append('piña')\n",
        "frutas.append('kiwi')\n",
        "frutas.append('manzana')\n",
        "print(frutas)\n"
      ],
      "execution_count": 1,
      "outputs": [
        {
          "output_type": "stream",
          "text": [
            "['piña', 'kiwi', 'manzana']\n"
          ],
          "name": "stdout"
        }
      ]
    },
    {
      "cell_type": "code",
      "metadata": {
        "id": "ay1BrrIeHr03"
      },
      "source": [
        "archivo = open('prueba_daa.tx', 'wt')\n",
        "archivo.write(\"Hola mundo JP\")\n",
        "archivo.close()\n"
      ],
      "execution_count": 4,
      "outputs": []
    }
  ]
}