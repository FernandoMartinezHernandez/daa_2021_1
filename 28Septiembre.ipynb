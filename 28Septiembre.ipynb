{
  "nbformat": 4,
  "nbformat_minor": 0,
  "metadata": {
    "colab": {
      "name": "28Septiembre.ipynb",
      "provenance": [],
      "toc_visible": true,
      "authorship_tag": "ABX9TyO7CB7L3D+L7iVnwP2DeIdw",
      "include_colab_link": true
    },
    "kernelspec": {
      "name": "python3",
      "display_name": "Python 3"
    }
  },
  "cells": [
    {
      "cell_type": "markdown",
      "metadata": {
        "id": "view-in-github",
        "colab_type": "text"
      },
      "source": [
        "<a href=\"https://colab.research.google.com/github/FernandoMartinezHernandez/daa_2021_1/blob/master/28Septiembre.ipynb\" target=\"_parent\"><img src=\"https://colab.research.google.com/assets/colab-badge.svg\" alt=\"Open In Colab\"/></a>"
      ]
    },
    {
      "cell_type": "code",
      "metadata": {
        "id": "kim11eUFD61u"
      },
      "source": [
        ""
      ],
      "execution_count": null,
      "outputs": []
    },
    {
      "cell_type": "markdown",
      "metadata": {
        "id": "t7Ui5L2PD_j7"
      },
      "source": [
        "# Codigo de ejemplo\n",
        "\n",
        "**Negritas** _Italica_ \n",
        "\n",
        "`edad = 10 \n",
        "print (edad)\n",
        "`"
      ]
    },
    {
      "cell_type": "code",
      "metadata": {
        "id": "KGpjxALrGfO6",
        "outputId": "1a91c96b-3037-4b80-a7df-68a341eda0a6",
        "colab": {
          "base_uri": "https://localhost:8080/",
          "height": 35
        }
      },
      "source": [
        "frutas =[]\n",
        "frutas.append('piña')\n",
        "frutas.append('kiwi')\n",
        "frutas.append('manzana')\n",
        "print(frutas)\n"
      ],
      "execution_count": 1,
      "outputs": [
        {
          "output_type": "stream",
          "text": [
            "['piña', 'kiwi', 'manzana']\n"
          ],
          "name": "stdout"
        }
      ]
    },
    {
      "cell_type": "code",
      "metadata": {
        "id": "ay1BrrIeHr03"
      },
      "source": [
        "archivo = open('prueba_daa.tx', 'wt')\n",
        "archivo.write(\"Hola mundo JP\")\n",
        "archivo.close()\n"
      ],
      "execution_count": 4,
      "outputs": []
    }
  ]
}