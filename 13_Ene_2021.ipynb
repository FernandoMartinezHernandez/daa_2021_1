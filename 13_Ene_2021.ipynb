{
  "nbformat": 4,
  "nbformat_minor": 0,
  "metadata": {
    "colab": {
      "name": "13-Ene-2021.ipynb",
      "provenance": [],
      "authorship_tag": "ABX9TyNg5t0YtbPbEL69Nm0XNMdt",
      "include_colab_link": true
    },
    "kernelspec": {
      "name": "python3",
      "display_name": "Python 3"
    }
  },
  "cells": [
    {
      "cell_type": "markdown",
      "metadata": {
        "id": "view-in-github",
        "colab_type": "text"
      },
      "source": [
        "<a href=\"https://colab.research.google.com/github/FernandoMartinezHernandez/daa_2021_1/blob/master/13_Ene_2021.ipynb\" target=\"_parent\"><img src=\"https://colab.research.google.com/assets/colab-badge.svg\" alt=\"Open In Colab\"/></a>"
      ]
    },
    {
      "cell_type": "code",
      "metadata": {
        "id": "bBAZnE56MQKP"
      },
      "source": [
        ""
      ],
      "execution_count": null,
      "outputs": []
    },
    {
      "cell_type": "code",
      "metadata": {
        "id": "5vG7R8N9MVPM"
      },
      "source": [
        "class NodoArbol: \r\n",
        "  def __init__(self, dato, hijo_izq=None, hijo_der=None):\r\n",
        "    self.dato=dato\r\n",
        "    self.left= hijo_izq\r\n",
        "    self.right= hijo_der\r\n",
        "\r\n"
      ],
      "execution_count": 2,
      "outputs": []
    },
    {
      "cell_type": "markdown",
      "metadata": {
        "id": "AYIPkepjSpkK"
      },
      "source": [
        "# Árbol Binario de búsqueda\r\n",
        "Los nodos a la izq son menores a la raiz y os nodos a la derecha son mayores a la raiz.\r\n",
        "Pueden ser recorridos en: Pre-orden, In-orden, Pos-orden"
      ]
    },
    {
      "cell_type": "code",
      "metadata": {
        "id": "u8m6doDbS7XM"
      },
      "source": [
        "class BinarySearchTree:\r\n",
        "  def __init__ (self):\r\n",
        "    self.__root=None \r\n",
        "\r\n",
        "  def insert (self,value):\r\n",
        "    if self.__root == None:\r\n",
        "      self.__root = NodoArbol(value,None,None)\r\n",
        "    else: \r\n",
        "      #preguntar si value es menor que root, de ser el caso\r\n",
        "      #insertar a la izq, PERO... Puede ser el caso que el \r\n",
        "      #sub arbol izq ya tenga muchos elementos \r\n",
        "      self.__insert_nodo__(self.__root,value)\r\n",
        "\r\n",
        "  def __insert_nodo__ (self, nodo, value):\r\n",
        "    if nodo.dato == value:\r\n",
        "      pass\r\n",
        "    elif value < nodo.dato: #true va a la Izq. \r\n",
        "      if nodo.left ==None: #Si hay espacio en la Izq se agrega ahí. \r\n",
        "        nodo.left = NodoArbol(value, None, None) #Insertamos el nodo \r\n",
        "      else: \r\n",
        "        self.__insert_nodo__(nodo.left,value) #Buscar su posicion en sub arbol Izq\r\n",
        "    else: \r\n",
        "      if nodo.right ==None:\r\n",
        "        nodo.right=NodoArbol(value, None, None)\r\n",
        "      else:\r\n",
        "        self.__insert_nodo__(nodo.right,value) #buscar en sub arbol\r\n",
        "\r\n",
        "\r\n",
        "bst = BinarySearchTree()\r\n",
        "bst.insert(50)\r\n",
        "bst.insert(30)\r\n",
        "bst.insert(20) "
      ],
      "execution_count": 8,
      "outputs": []
    }
  ]
}