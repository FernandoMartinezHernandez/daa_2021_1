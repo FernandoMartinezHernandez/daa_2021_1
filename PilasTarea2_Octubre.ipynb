{
  "nbformat": 4,
  "nbformat_minor": 0,
  "metadata": {
    "colab": {
      "name": "PilasTarea2_Octubre.ipynb",
      "provenance": [],
      "authorship_tag": "ABX9TyOdmBuiLmRqQIlr8JuPQIED",
      "include_colab_link": true
    },
    "kernelspec": {
      "name": "python3",
      "display_name": "Python 3"
    }
  },
  "cells": [
    {
      "cell_type": "markdown",
      "metadata": {
        "id": "view-in-github",
        "colab_type": "text"
      },
      "source": [
        "<a href=\"https://colab.research.google.com/github/FernandoMartinezHernandez/daa_2021_1/blob/master/PilasTarea2_Octubre.ipynb\" target=\"_parent\"><img src=\"https://colab.research.google.com/assets/colab-badge.svg\" alt=\"Open In Colab\"/></a>"
      ]
    },
    {
      "cell_type": "code",
      "metadata": {
        "id": "xMptek28hvgI"
      },
      "source": [
        "class Stack:\n",
        "  def __init__ (self):\n",
        "    self.__datos=[]\n",
        "\n",
        "  def is_empty(self):\n",
        "    return len(self.__datos)==0\n",
        "\n",
        "  def get_top(self):\n",
        "    return self.__datos[-1]\n",
        "\n",
        "  def pop(self):\n",
        "    return self.__datos.pop()\n",
        "\n",
        "  def push (self, valor):\n",
        "    self.__datos.append(valor)\n",
        "\n",
        "  def get_length (self):\n",
        "    return len(self.__datos)\n",
        "\n",
        "  def to_string (self):\n",
        "    print(\"|---------------|\")\n",
        "    for ele in self.__datos[-1::-1]:\n",
        "      print(f\" { ele } \")\n",
        "    print(\"|---------------|\")\n",
        "\n"
      ],
      "execution_count": 11,
      "outputs": []
    },
    {
      "cell_type": "code",
      "metadata": {
        "id": "WuqqTK6yeQVq",
        "outputId": "b1717e03-f435-4754-eac4-34dce665ec0e",
        "colab": {
          "base_uri": "https://localhost:8080/",
          "height": 54
        }
      },
      "source": [
        "import csv\n",
        "import pandas as pd\n",
        "dat=[]\n",
        "pila1 = Stack()\n",
        "c1 ='['\n",
        "c2 =']'\n",
        "c3 = '('\n",
        "c4 =')'\n",
        "c5 ='{'\n",
        "c6 ='}'\n",
        "selec = ''\n",
        "selec = (input(\"Quieres añadir un archivo? [S/N]\"))\n",
        "selec.upper()\n",
        "\n",
        "if selec == 'S':\n",
        "  from google.colab import files\n",
        "  files.upload()\n",
        "  direc = (input(\"nombre del archivo(con extension):\"))\n",
        "\n",
        "  with open(direc, 'r', encoding='latin') as file:\n",
        "    reader = file.readlines()\n",
        "    for row in reader:\n",
        "     dat.append(row.strip('\\n'))\n",
        "elif selec == 'N':\n",
        "  with open('/content/Insercion.java', 'r', encoding='latin') as file:\n",
        "    reader = file.readlines()\n",
        "    for row in reader:\n",
        "     dat.append(row.strip('\\n'))\n",
        "\n",
        "for i in range(0, len(dat)):\n",
        "  for j in range (0, len(dat[i])):\n",
        "    if dat[i][j] == c1 or dat[i][j] ==  c3 or dat[i][j] ==  c5:\n",
        "      pila1.push('@')\n",
        "    \n",
        "    if dat[i][j] == c2 or dat[i][j] == c4   or dat[i][j] ==  c6 :\n",
        "      pila1.pop()\n",
        "\n",
        "if pila1.is_empty():\n",
        "  print(\"Codigo Balanceado\")\n",
        "else:\n",
        "  print(\"El Codigo no esta balanceado\")\n",
        "\n"
      ],
      "execution_count": 87,
      "outputs": [
        {
          "output_type": "stream",
          "text": [
            "Quieres añadir un archivo? [S/N]J\n",
            "Codigo Balanceado\n"
          ],
          "name": "stdout"
        }
      ]
    }
  ]
}