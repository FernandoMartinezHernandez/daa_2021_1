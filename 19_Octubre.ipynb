{
  "nbformat": 4,
  "nbformat_minor": 0,
  "metadata": {
    "colab": {
      "name": "19-Octubre.ipynb",
      "provenance": [],
      "authorship_tag": "ABX9TyOFtGEkDkDhrbR92zhVmqse",
      "include_colab_link": true
    },
    "kernelspec": {
      "name": "python3",
      "display_name": "Python 3"
    }
  },
  "cells": [
    {
      "cell_type": "markdown",
      "metadata": {
        "id": "view-in-github",
        "colab_type": "text"
      },
      "source": [
        "<a href=\"https://colab.research.google.com/github/FernandoMartinezHernandez/daa_2021_1/blob/master/19_Octubre.ipynb\" target=\"_parent\"><img src=\"https://colab.research.google.com/assets/colab-badge.svg\" alt=\"Open In Colab\"/></a>"
      ]
    },
    {
      "cell_type": "code",
      "metadata": {
        "id": "XiGVhCiBMQck",
        "outputId": "c53a40a7-a0fe-4ef4-d827-c17b4731e1b0",
        "colab": {
          "base_uri": "https://localhost:8080/",
          "height": 274
        }
      },
      "source": [
        "a2d = [[3,2,1],[6,4,8],[7,4,2]]\n",
        "n= 3\n",
        "total=0 #1\n",
        "print(\"nivel1\")\n",
        "for ren in range(n):\n",
        "  sumaRenglon =0\n",
        "  print(\"nivel 2\")\n",
        "  for col in range(n): \n",
        "    sumaRenglon += a2d[ren][col]\n",
        "    total += a2d [ren][col]\n",
        "    print(\"nivel3\")\n",
        "print(total)"
      ],
      "execution_count": 3,
      "outputs": [
        {
          "output_type": "stream",
          "text": [
            "nivel1\n",
            "nivel 2\n",
            "nivel3\n",
            "nivel3\n",
            "nivel3\n",
            "nivel 2\n",
            "nivel3\n",
            "nivel3\n",
            "nivel3\n",
            "nivel 2\n",
            "nivel3\n",
            "nivel3\n",
            "nivel3\n",
            "37\n"
          ],
          "name": "stdout"
        }
      ]
    }
  ]
}