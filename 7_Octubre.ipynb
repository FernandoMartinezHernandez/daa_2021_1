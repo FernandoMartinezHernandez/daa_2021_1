{
  "nbformat": 4,
  "nbformat_minor": 0,
  "metadata": {
    "colab": {
      "name": "7_Octubre.ipynb",
      "provenance": [],
      "authorship_tag": "ABX9TyMGfUeFflgblM5QjQ9JI9Ew",
      "include_colab_link": true
    },
    "kernelspec": {
      "name": "python3",
      "display_name": "Python 3"
    }
  },
  "cells": [
    {
      "cell_type": "markdown",
      "metadata": {
        "id": "view-in-github",
        "colab_type": "text"
      },
      "source": [
        "<a href=\"https://colab.research.google.com/github/FernandoMartinezHernandez/daa_2021_1/blob/master/7_Octubre.ipynb\" target=\"_parent\"><img src=\"https://colab.research.google.com/assets/colab-badge.svg\" alt=\"Open In Colab\"/></a>"
      ]
    },
    {
      "cell_type": "markdown",
      "metadata": {
        "id": "Rrxzbp49Sik3"
      },
      "source": [
        "#Busqueda Lineal \n",
        "Dado un conjunto de datos no ordenada, la busqueda lineal consste en recorrer el conjunto de datos desde el inicio al final, moviendose de uno en uno hasta encontrar el elemento o llegar al final del conjunto.\n",
        "\n",
        "datos = [4.18,47,2,34,14,78,12,48,21,31,19,1,3,5]\n",
        "\n",
        "#Busqueda Binaria\n",
        "Funciona sobre un conjun to de datos ordenado.\n",
        "Consiste en dividir el conjunto en mitades y buscar en esa mitad. Si el elemento buscado no esta en la mitad, preguntas si el elemento esta a la derecha o a la izquierda.\n",
        "Haces la lista igual a lamitad correspondiente y repites el proceso \n",
        "\n",
        "L= [1, 2, 3, 4.18, 5, 12, 14, 19, 21, 31, 34, 47, 48, 78]\n",
        "\n",
        "Der = longitud(L)-1 \n",
        "\n",
        "Izq =0\n",
        "\n",
        "Mid apuntara a la mitad del segmento de busqueda \n",
        "\n",
        "buscado: es el valor a buscar\n",
        "\n",
        "1. Hacer Der = longitu(L)-1\n",
        "2. Hacer Izq =0\n",
        "3. Si Izq > Der significa que el arreglo no esta ordenado \n",
        "4. Calcular Mid = int((Izq + Der)/2)\n",
        "5. Mientras L[MD] != buscado hacer\n",
        "6.  - Preguntar L[MID] > buscado \n",
        "      -hacer Der = MID\n",
        "    - de lo contrario \n",
        "      -Hacer Izq = mid\n",
        "    - preguntar (der - izq) % 2\n",
        "      -MID = (Izq + ((Der - Izq)/2))+1\n",
        "    - de lo contrario \n",
        "      -Mid = Izq + ((Der - Izq)/2)\n",
        "7. return Mid"
      ]
    },
    {
      "cell_type": "code",
      "metadata": {
        "id": "moDH6m-XShcI",
        "outputId": "4a5625bb-3dbd-44e1-8ab7-dfc2c798c018",
        "colab": {
          "base_uri": "https://localhost:8080/",
          "height": 109
        }
      },
      "source": [
        "\"\"\"\n",
        "Busqueda lineal\n",
        "regresa la posicion del elemento \"Buscado\" si se encuentra dentro de la lista\n",
        "regresa -1 si el elemento no existe dentro de la lista\n",
        "\"\"\"\n",
        "\n",
        "def busq_lineal (L, buscado):\n",
        "  indice = -1\n",
        "  contador =0\n",
        "  for idx in range(len(L)):\n",
        "    contador +=1\n",
        "    if L[idx] == buscado:\n",
        "      indice = idx\n",
        "      break\n",
        "  #print(f\"Numero de comparaciones{contador}\")\n",
        "  return indice +1\n",
        "\n",
        "\"\"\"\n",
        "Busqueda Binaria \n",
        "\"\"\"\n",
        "\n",
        "def busq_bin( L, buscado):\n",
        "  indice =-1\n",
        "  Izq =0\n",
        "  Der = len(L)-1\n",
        "  Mid= 0\n",
        "  \n",
        "  while not (Izq>Der):\n",
        "    Mid =(Izq +Der)//2\n",
        "    if L[Mid] < buscado:\n",
        "      Izq = Mid+1\n",
        "    else: \n",
        "      Der = Mid-1\n",
        "    \n",
        "    print(f\"Comparar buscado{buscado} con {L[Mid]}\")\n",
        "\n",
        "    if L[Mid] == buscado:\n",
        "      indice = Mid\n",
        "      break\n",
        "  return indice\n",
        "\n",
        "def busq_bin_recur(L,buscado,Izq,Der):\n",
        "  Mid = (Izq +Der)//2\n",
        "\n",
        "  if Izq >= Der:\n",
        "    return -1\n",
        "  if L[Mid]== buscado:\n",
        "    return Mid\n",
        "  elif L[Mid]<buscado:\n",
        "    return busq_bin_recur(L,buscado,Mid+1,Der)\n",
        "  else:\n",
        "    return busq_bin_recur(L,buscado,Izq,Mid)\n",
        "\n",
        "def main():\n",
        "  datos = [4.18,47,2,34,14,78,12,48,21,31,19,1,3,5]\n",
        "  dato = int(input(\"¿Que valor desea buscar?\"))\n",
        "  resultado = busq_lineal(datos, dato)\n",
        "  #print(\"Resultado: \", resultado)\n",
        "  #print(\"Busqueda lineal en una lista ordenada\")\n",
        "  datos.sort()\n",
        "  print(datos)\n",
        "  resultado = busq_lineal(datos, dato)\n",
        "  #\n",
        "  print(\"Resultado: \", resultado)\n",
        "\n",
        "  print(\"Busqueda Binaria\")\n",
        "  #posicion = busq_bin(datos, dato)\n",
        "  #print(f\"El elemento {dato} esta en la posicion { posicion+1 } de la lista\")\n",
        "  posicion = busq_bin_recur(datos,dato,0,len(datos))\n",
        "\n",
        "  print(f\"El elemento {dato} esta en la posicion { posicion+1 } de la lista\")\n",
        "main()"
      ],
      "execution_count": 6,
      "outputs": [
        {
          "output_type": "stream",
          "text": [
            "¿Que valor desea buscar?47\n",
            "[1, 2, 3, 4.18, 5, 12, 14, 19, 21, 31, 34, 47, 48, 78]\n",
            "Resultado:  12\n",
            "Busqueda Binaria\n",
            "El elemento 47 esta en la posicion 12 de la lista\n"
          ],
          "name": "stdout"
        }
      ]
    }
  ]
}