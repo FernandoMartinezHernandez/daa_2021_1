{
  "nbformat": 4,
  "nbformat_minor": 0,
  "metadata": {
    "colab": {
      "name": "Tarea6_Fuerza_Bruta.ipynb",
      "provenance": [],
      "authorship_tag": "ABX9TyN6MuO3CO5BEMTIsk5eiFz4",
      "include_colab_link": true
    },
    "kernelspec": {
      "name": "python3",
      "display_name": "Python 3"
    }
  },
  "cells": [
    {
      "cell_type": "markdown",
      "metadata": {
        "id": "view-in-github",
        "colab_type": "text"
      },
      "source": [
        "<a href=\"https://colab.research.google.com/github/FernandoMartinezHernandez/daa_2021_1/blob/master/Tarea6_Fuerza_Bruta.ipynb\" target=\"_parent\"><img src=\"https://colab.research.google.com/assets/colab-badge.svg\" alt=\"Open In Colab\"/></a>"
      ]
    },
    {
      "cell_type": "code",
      "metadata": {
        "colab": {
          "base_uri": "https://localhost:8080/"
        },
        "id": "3Xi0yJGu26xs",
        "outputId": "984badee-ceb0-49cd-d912-28ca8cd6997b"
      },
      "source": [
        "def normalizar (cad):\n",
        "  cad = cad.lower()\n",
        "  tilde= 'áéíóúÁÉÍÓÚ'\n",
        "  norm= 'aeiouAEIOU'\n",
        "  spec=',.-_'\n",
        "  norm2='    '\n",
        "  normal = str.maketrans(tilde,norm)\n",
        "  normal2 = str.maketrans(spec,norm2)\n",
        "  cad= cad.translate(normal)\n",
        "  cad= cad.translate(normal2)\n",
        "  cad = \" \".join( cad.split() )\n",
        "  return cad\n",
        "\n",
        "text = \"El lema que anima a la Universidad Nacional,\" \\\n",
        "   \"Por mi raza hablará el espíritu, revela la vocación humanística con la que fue concebida. \"\\\n",
        "   \"El autor de esta célebre frase,José Vasconcelos, asumió la rectoría en 1920, en una época en que las esperanzas de la\"\\\n",
        "   \"Revolución aún estaban vivas, había una gran fé en la Patria y el ánimo redentor se extendía en el ambiente.\"\n",
        "\n",
        "text = normalizar(text)\n",
        "lista = text.split()\n",
        "print(text)\n",
        "frec = []\n",
        "for i in lista:\n",
        "  frec.append(lista.count(i))\n",
        "\n",
        "print(list(zip(lista, frec)))"
      ],
      "execution_count": 49,
      "outputs": [
        {
          "output_type": "stream",
          "text": [
            "el lema que anima a la universidad nacional por mi raza hablara el espiritu revela la vocacion humanistica con la que fue concebida el autor de esta celebre frase jose vasconcelos asumio la rectoria en 1920 en una epoca en que las esperanzas de larevolucion aun estaban vivas habia una gran fe en la patria y el animo redentor se extendia en el ambiente\n",
            "[('el', 5), ('lema', 1), ('que', 3), ('anima', 1), ('a', 1), ('la', 5), ('universidad', 1), ('nacional', 1), ('por', 1), ('mi', 1), ('raza', 1), ('hablara', 1), ('el', 5), ('espiritu', 1), ('revela', 1), ('la', 5), ('vocacion', 1), ('humanistica', 1), ('con', 1), ('la', 5), ('que', 3), ('fue', 1), ('concebida', 1), ('el', 5), ('autor', 1), ('de', 2), ('esta', 1), ('celebre', 1), ('frase', 1), ('jose', 1), ('vasconcelos', 1), ('asumio', 1), ('la', 5), ('rectoria', 1), ('en', 5), ('1920', 1), ('en', 5), ('una', 2), ('epoca', 1), ('en', 5), ('que', 3), ('las', 1), ('esperanzas', 1), ('de', 2), ('larevolucion', 1), ('aun', 1), ('estaban', 1), ('vivas', 1), ('habia', 1), ('una', 2), ('gran', 1), ('fe', 1), ('en', 5), ('la', 5), ('patria', 1), ('y', 1), ('el', 5), ('animo', 1), ('redentor', 1), ('se', 1), ('extendia', 1), ('en', 5), ('el', 5), ('ambiente', 1)]\n"
          ],
          "name": "stdout"
        }
      ]
    }
  ]
}