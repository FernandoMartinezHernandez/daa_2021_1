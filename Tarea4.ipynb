{
  "nbformat": 4,
  "nbformat_minor": 0,
  "metadata": {
    "colab": {
      "name": "Tarea4.ipynb",
      "provenance": [],
      "authorship_tag": "ABX9TyO0NJj3ECc75q2ht7R661nW",
      "include_colab_link": true
    },
    "kernelspec": {
      "name": "python3",
      "display_name": "Python 3"
    }
  },
  "cells": [
    {
      "cell_type": "markdown",
      "metadata": {
        "id": "view-in-github",
        "colab_type": "text"
      },
      "source": [
        "<a href=\"https://colab.research.google.com/github/FernandoMartinezHernandez/daa_2021_1/blob/master/Tarea4.ipynb\" target=\"_parent\"><img src=\"https://colab.research.google.com/assets/colab-badge.svg\" alt=\"Open In Colab\"/></a>"
      ]
    },
    {
      "cell_type": "code",
      "metadata": {
        "id": "hS4Hux_TE1po",
        "outputId": "c173b661-a91e-4305-d17b-10ab97322929",
        "colab": {
          "base_uri": "https://localhost:8080/",
          "height": 182
        }
      },
      "source": [
        "def ejemplo(n):\n",
        "  contador =0\n",
        "  i =n\n",
        "  print(\"nivel 1\")\n",
        "  while i>=1:\n",
        "    contador += 1\n",
        "    i=i//2\n",
        "    print(\"nivel 2\")\n",
        "  basura = 3+2\n",
        "  return contador\n",
        "\n",
        "\n",
        "n=100\n",
        "print(ejemplo(n))"
      ],
      "execution_count": 13,
      "outputs": [
        {
          "output_type": "stream",
          "text": [
            "nivel 1\n",
            "nivel 2\n",
            "nivel 2\n",
            "nivel 2\n",
            "nivel 2\n",
            "nivel 2\n",
            "nivel 2\n",
            "nivel 2\n",
            "7\n"
          ],
          "name": "stdout"
        }
      ]
    }
  ]
}