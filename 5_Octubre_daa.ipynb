{
  "nbformat": 4,
  "nbformat_minor": 0,
  "metadata": {
    "colab": {
      "name": "5_Octubre_daa.ipynb",
      "provenance": [],
      "authorship_tag": "ABX9TyOMHzbV66lmcGps/JqefNiD",
      "include_colab_link": true
    },
    "kernelspec": {
      "name": "python3",
      "display_name": "Python 3"
    }
  },
  "cells": [
    {
      "cell_type": "markdown",
      "metadata": {
        "id": "view-in-github",
        "colab_type": "text"
      },
      "source": [
        "<a href=\"https://colab.research.google.com/github/FernandoMartinezHernandez/daa_2021_1/blob/master/5_Octubre_daa.ipynb\" target=\"_parent\"><img src=\"https://colab.research.google.com/assets/colab-badge.svg\" alt=\"Open In Colab\"/></a>"
      ]
    },
    {
      "cell_type": "markdown",
      "metadata": {
        "id": "_eyudZvVCXCL"
      },
      "source": [
        "#Estructuras de datos Pila (Stack)\n",
        "- LIFO - Last In First Out (el ultimo en entrar es el primero en salir)\n",
        "- Son de tipo lineal\n",
        "- Se pueden ingresar datos desde el tope\n",
        "- Push para agregar\n",
        "- Pop para sacar\n",
        "##Operaciones de las Pilas\n",
        "\n",
        "1. is_empty (Regresa true o false)\n",
        "2. get_top (regresa el elemento en el tope -sin sacarlo-)\n",
        "3. pop (saca el elemento del tope y lo regresa)\n",
        "4. push (mete un elemento en el tope) \n",
        "5. get_length (regresa el numero de elementos de la pila)\n",
        "\n"
      ]
    },
    {
      "cell_type": "code",
      "metadata": {
        "id": "tkUP_gZF-9Ka"
      },
      "source": [
        "class Stack:\n",
        "  def __init__ (self):\n",
        "    self.__datos=[]\n",
        "\n",
        "  def is_empty(self):\n",
        "    return len(self.__datos)==0\n",
        "\n",
        "  def get_top(self):\n",
        "    return self.__datos[-1]\n",
        "\n",
        "  def pop(self):\n",
        "    return self.__datos.pop()\n",
        "\n",
        "  def push (self, valor):\n",
        "    self.__datos.append(valor)\n",
        "\n",
        "  def get_length (self):\n",
        "    return len(self.__datos)\n",
        "\n",
        "  def to_string (self):\n",
        "    print(\"|---------------|\")\n",
        "    for ele in self.__datos[-1::-1]:\n",
        "      print(f\" { ele } \")\n",
        "    print(\"|---------------|\")\n",
        "\n"
      ],
      "execution_count": 20,
      "outputs": []
    },
    {
      "cell_type": "code",
      "metadata": {
        "id": "iscgkCifFUHt",
        "outputId": "05a8f4b8-96e5-4e2c-e40a-206ff91c1a4e",
        "colab": {
          "base_uri": "https://localhost:8080/",
          "height": 439
        }
      },
      "source": [
        "pila1 = Stack()\n",
        "\n",
        "pila1.push(10)\n",
        "pila1.push(15)\n",
        "pila1.push(32)\n",
        "pila1.push(54)\n",
        "pila1.push(87)\n",
        "\n",
        "pila1.to_string()\n",
        "\n",
        "sacado = pila1.pop()\n",
        "print (sacado)\n",
        "pila1.to_string()\n",
        "\n",
        "print(f\"Elemento en el tope es:{ pila1.get_top()}\")\n",
        "pila1.to_string()\n",
        "print(f\"La pila tiene :{ pila1.get_length() } elementos\")\n",
        "\n",
        "print(f\"La pila esta vacía? {pila1.is_empty()}\")"
      ],
      "execution_count": 21,
      "outputs": [
        {
          "output_type": "stream",
          "text": [
            "|---------------|\n",
            " 87 \n",
            " 54 \n",
            " 32 \n",
            " 15 \n",
            " 10 \n",
            "|---------------|\n",
            "87\n",
            "|---------------|\n",
            " 54 \n",
            " 32 \n",
            " 15 \n",
            " 10 \n",
            "|---------------|\n",
            "Elemento en el tope es:54\n",
            "|---------------|\n",
            " 54 \n",
            " 32 \n",
            " 15 \n",
            " 10 \n",
            "|---------------|\n",
            "La pila tiene :4elementos\n",
            "La pila esta vacía? False\n"
          ],
          "name": "stdout"
        }
      ]
    },
    {
      "cell_type": "markdown",
      "metadata": {
        "id": "beTABi2pJMB-"
      },
      "source": [
        "#Ejemplo de aplicación de pilas \n",
        "\n",
        "x = 4 + 5 + 6 + 3\n",
        "\n",
        "x = 4 + (5 + 6) + 3\n",
        "\n",
        "x = 4 +(5 + 6) + 3\n",
        "\n",
        "if(a==b) {System.out.println(b)\n",
        "\n",
        "if(a==b) {System.out.println(b)}\n",
        "\n",
        "#Reglas \n",
        "### '(' ----> push ('@') \n",
        "### ')' ----> pop()\n",
        "\n",
        "Si al final del recorrido la pila esta vacia, entonces la cadena es correcta.\n",
        "Si en un pop desencadena en querer sacar un elemento de la pila vacia significa que la cadena no esta balanceada "
      ]
    },
    {
      "cell_type": "markdown",
      "metadata": {
        "id": "frubLWodNLkS"
      },
      "source": [
        "#Tarea\n",
        "Hacer un programa que valide el balanceo de '( )', '[ ]', '{ } ' en programas del lenguaje C y Java"
      ]
    }
  ]
}